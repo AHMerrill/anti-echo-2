{
  "cells": [
    {
      "cell_type": "markdown",
      "metadata": {},
      "source": [
        "# Anti-Echo Chamber - Article Comparison Tool\n",
        "\n",
        "This notebook compares news articles and finds opposing viewpoints to break echo chambers.\n",
        "\n",
        "**Key Features:**\n",
        "- Query similar articles by topic\n",
        "- Find opposing viewpoints by political stance\n",
        "- Interactive article comparison\n",
        "- ChromaDB-based retrieval system\n",
        "\n",
        "[![Open In Colab](https://colab.research.google.com/assets/colab-badge.svg)](https://colab.research.google.com/github/AHMerrill/anti-echo-2/blob/main/notebooks/anti_echo_chamber.ipynb)\n"
      ]
    }
  ],
  "metadata": {
    "language_info": {
      "name": "python"
    }
  },
  "nbformat": 4,
  "nbformat_minor": 2
}
